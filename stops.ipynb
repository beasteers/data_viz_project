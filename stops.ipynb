{
 "cells": [
  {
   "cell_type": "code",
   "execution_count": 2,
   "metadata": {},
   "outputs": [],
   "source": [
    "import pandas as pd\n",
    "import datetime as dt\n",
    "import urllib\n",
    "import zipfile\n",
    "import re\n",
    "from geopy.distance import vincenty"
   ]
  },
  {
   "cell_type": "code",
   "execution_count": 3,
   "metadata": {},
   "outputs": [
    {
     "data": {
      "text/plain": [
       "('GTFS_nyc_Subway.zip', <httplib.HTTPMessage instance at 0x106d78ea8>)"
      ]
     },
     "execution_count": 3,
     "metadata": {},
     "output_type": "execute_result"
    }
   ],
   "source": [
    "url = 'http://web.mta.info/developers/data/nyct/subway/google_transit.zip'\n",
    "urllib.urlretrieve (url, \"GTFS_nyc_Subway.zip\")"
   ]
  },
  {
   "cell_type": "code",
   "execution_count": 4,
   "metadata": {},
   "outputs": [],
   "source": [
    "zip_ref = zipfile.ZipFile(\"GTFS_nyc_Subway.zip\", 'r')\n",
    "zip_ref.extractall(\"GTFS_nyc_Subway\")\n",
    "zip_ref.close()"
   ]
  },
  {
   "cell_type": "code",
   "execution_count": 5,
   "metadata": {},
   "outputs": [],
   "source": [
    "stop_times= pd.read_csv('GTFS_nyc_Subway/stop_times.txt')"
   ]
  },
  {
   "cell_type": "code",
   "execution_count": 6,
   "metadata": {},
   "outputs": [
    {
     "data": {
      "text/html": [
       "<div>\n",
       "<style>\n",
       "    .dataframe thead tr:only-child th {\n",
       "        text-align: right;\n",
       "    }\n",
       "\n",
       "    .dataframe thead th {\n",
       "        text-align: left;\n",
       "    }\n",
       "\n",
       "    .dataframe tbody tr th {\n",
       "        vertical-align: top;\n",
       "    }\n",
       "</style>\n",
       "<table border=\"1\" class=\"dataframe\">\n",
       "  <thead>\n",
       "    <tr style=\"text-align: right;\">\n",
       "      <th></th>\n",
       "      <th>trip_id</th>\n",
       "      <th>arrival_time</th>\n",
       "      <th>departure_time</th>\n",
       "      <th>stop_id</th>\n",
       "      <th>stop_sequence</th>\n",
       "      <th>stop_headsign</th>\n",
       "      <th>pickup_type</th>\n",
       "      <th>drop_off_type</th>\n",
       "      <th>shape_dist_traveled</th>\n",
       "    </tr>\n",
       "  </thead>\n",
       "  <tbody>\n",
       "    <tr>\n",
       "      <th>0</th>\n",
       "      <td>A20171105SAT_036000_GS.N01R</td>\n",
       "      <td>06:00:00</td>\n",
       "      <td>06:00:00</td>\n",
       "      <td>901N</td>\n",
       "      <td>1</td>\n",
       "      <td>NaN</td>\n",
       "      <td>0</td>\n",
       "      <td>0</td>\n",
       "      <td>NaN</td>\n",
       "    </tr>\n",
       "    <tr>\n",
       "      <th>1</th>\n",
       "      <td>A20171105SAT_036000_GS.N01R</td>\n",
       "      <td>06:01:30</td>\n",
       "      <td>06:01:30</td>\n",
       "      <td>902N</td>\n",
       "      <td>2</td>\n",
       "      <td>NaN</td>\n",
       "      <td>0</td>\n",
       "      <td>0</td>\n",
       "      <td>NaN</td>\n",
       "    </tr>\n",
       "  </tbody>\n",
       "</table>\n",
       "</div>"
      ],
      "text/plain": [
       "                       trip_id arrival_time departure_time stop_id  \\\n",
       "0  A20171105SAT_036000_GS.N01R     06:00:00       06:00:00    901N   \n",
       "1  A20171105SAT_036000_GS.N01R     06:01:30       06:01:30    902N   \n",
       "\n",
       "   stop_sequence  stop_headsign  pickup_type  drop_off_type  \\\n",
       "0              1            NaN            0              0   \n",
       "1              2            NaN            0              0   \n",
       "\n",
       "   shape_dist_traveled  \n",
       "0                  NaN  \n",
       "1                  NaN  "
      ]
     },
     "execution_count": 6,
     "metadata": {},
     "output_type": "execute_result"
    }
   ],
   "source": [
    "stop_times.head(2)"
   ]
  },
  {
   "cell_type": "code",
   "execution_count": 7,
   "metadata": {},
   "outputs": [],
   "source": [
    "stop_times['service_id']=stop_times['trip_id'].apply(lambda x: x.split('_')[0])\n",
    "stop_times['sub_trip_id']=stop_times['trip_id'].apply(lambda x: x.split('_')[1])\n",
    "stop_times['train+direction']=stop_times['trip_id'].apply(lambda x: x.split('_')[2])\n",
    "del stop_times['stop_headsign']\n",
    "del stop_times['pickup_type']\n",
    "del stop_times['drop_off_type']\n",
    "del stop_times['shape_dist_traveled']"
   ]
  },
  {
   "cell_type": "code",
   "execution_count": 8,
   "metadata": {},
   "outputs": [],
   "source": [
    "stop_times['train'] = stop_times['train+direction'].apply(lambda x: x.split('.')[0])\n",
    "stop_times['day'] = stop_times['service_id'].apply(lambda x: x[-3:])"
   ]
  },
  {
   "cell_type": "code",
   "execution_count": 9,
   "metadata": {},
   "outputs": [],
   "source": [
    "stop_times.loc[stop_times[stop_times['train+direction'].isin(['N..N72R','N..S72R'])].index,['train']]='W'"
   ]
  },
  {
   "cell_type": "code",
   "execution_count": 10,
   "metadata": {},
   "outputs": [],
   "source": [
    "stop_train= stop_times[['stop_id','train']].drop_duplicates()"
   ]
  },
  {
   "cell_type": "code",
   "execution_count": 11,
   "metadata": {},
   "outputs": [],
   "source": [
    "stop_train['stop_id'] = map(lambda x:x[:-1],stop_train['stop_id'])"
   ]
  },
  {
   "cell_type": "code",
   "execution_count": 12,
   "metadata": {},
   "outputs": [],
   "source": [
    "stop_train = stop_train.drop_duplicates().sort_values(['train','stop_id']).reset_index(drop= True)"
   ]
  },
  {
   "cell_type": "code",
   "execution_count": 13,
   "metadata": {},
   "outputs": [
    {
     "data": {
      "text/plain": [
       "{'1',\n",
       " '2',\n",
       " '3',\n",
       " '4',\n",
       " '5',\n",
       " '6',\n",
       " '7',\n",
       " 'A',\n",
       " 'B',\n",
       " 'C',\n",
       " 'D',\n",
       " 'E',\n",
       " 'F',\n",
       " 'FS',\n",
       " 'G',\n",
       " 'GS',\n",
       " 'H',\n",
       " 'J',\n",
       " 'L',\n",
       " 'M',\n",
       " 'N',\n",
       " 'Q',\n",
       " 'R',\n",
       " 'SI',\n",
       " 'W'}"
      ]
     },
     "execution_count": 13,
     "metadata": {},
     "output_type": "execute_result"
    }
   ],
   "source": [
    "set(stop_train.train)"
   ]
  },
  {
   "cell_type": "code",
   "execution_count": 14,
   "metadata": {},
   "outputs": [],
   "source": [
    "stops=pd.read_csv('GTFS_nyc_Subway/stops.txt')"
   ]
  },
  {
   "cell_type": "code",
   "execution_count": 15,
   "metadata": {},
   "outputs": [],
   "source": [
    "stop_train = stop_train.merge(stops[['stop_id','stop_name','stop_lat','stop_lon']],on='stop_id',how='left')"
   ]
  },
  {
   "cell_type": "code",
   "execution_count": 17,
   "metadata": {},
   "outputs": [],
   "source": [
    "stop_train.to_csv('stop_train.csv')"
   ]
  },
  {
   "cell_type": "code",
   "execution_count": 19,
   "metadata": {},
   "outputs": [
    {
     "data": {
      "text/html": [
       "<div>\n",
       "<style>\n",
       "    .dataframe thead tr:only-child th {\n",
       "        text-align: right;\n",
       "    }\n",
       "\n",
       "    .dataframe thead th {\n",
       "        text-align: left;\n",
       "    }\n",
       "\n",
       "    .dataframe tbody tr th {\n",
       "        vertical-align: top;\n",
       "    }\n",
       "</style>\n",
       "<table border=\"1\" class=\"dataframe\">\n",
       "  <thead>\n",
       "    <tr style=\"text-align: right;\">\n",
       "      <th></th>\n",
       "      <th>stop_id</th>\n",
       "      <th>train</th>\n",
       "      <th>stop_name</th>\n",
       "      <th>stop_lat</th>\n",
       "      <th>stop_lon</th>\n",
       "    </tr>\n",
       "  </thead>\n",
       "  <tbody>\n",
       "    <tr>\n",
       "      <th>0</th>\n",
       "      <td>101</td>\n",
       "      <td>1</td>\n",
       "      <td>Van Cortlandt Park - 242 St</td>\n",
       "      <td>40.889248</td>\n",
       "      <td>-73.898583</td>\n",
       "    </tr>\n",
       "    <tr>\n",
       "      <th>1</th>\n",
       "      <td>103</td>\n",
       "      <td>1</td>\n",
       "      <td>238 St</td>\n",
       "      <td>40.884667</td>\n",
       "      <td>-73.900870</td>\n",
       "    </tr>\n",
       "    <tr>\n",
       "      <th>2</th>\n",
       "      <td>104</td>\n",
       "      <td>1</td>\n",
       "      <td>231 St</td>\n",
       "      <td>40.878856</td>\n",
       "      <td>-73.904834</td>\n",
       "    </tr>\n",
       "    <tr>\n",
       "      <th>3</th>\n",
       "      <td>106</td>\n",
       "      <td>1</td>\n",
       "      <td>Marble Hill - 225 St</td>\n",
       "      <td>40.874561</td>\n",
       "      <td>-73.909831</td>\n",
       "    </tr>\n",
       "    <tr>\n",
       "      <th>4</th>\n",
       "      <td>107</td>\n",
       "      <td>1</td>\n",
       "      <td>215 St</td>\n",
       "      <td>40.869444</td>\n",
       "      <td>-73.915279</td>\n",
       "    </tr>\n",
       "  </tbody>\n",
       "</table>\n",
       "</div>"
      ],
      "text/plain": [
       "  stop_id train                    stop_name   stop_lat   stop_lon\n",
       "0     101     1  Van Cortlandt Park - 242 St  40.889248 -73.898583\n",
       "1     103     1                       238 St  40.884667 -73.900870\n",
       "2     104     1                       231 St  40.878856 -73.904834\n",
       "3     106     1         Marble Hill - 225 St  40.874561 -73.909831\n",
       "4     107     1                       215 St  40.869444 -73.915279"
      ]
     },
     "execution_count": 19,
     "metadata": {},
     "output_type": "execute_result"
    }
   ],
   "source": [
    "stop_train.head()"
   ]
  },
  {
   "cell_type": "code",
   "execution_count": 24,
   "metadata": {},
   "outputs": [],
   "source": [
    "stop_times['stop_id'] = stop_times['stop_id'].str[:-1]"
   ]
  },
  {
   "cell_type": "code",
   "execution_count": 25,
   "metadata": {},
   "outputs": [
    {
     "data": {
      "text/html": [
       "<div>\n",
       "<style>\n",
       "    .dataframe thead tr:only-child th {\n",
       "        text-align: right;\n",
       "    }\n",
       "\n",
       "    .dataframe thead th {\n",
       "        text-align: left;\n",
       "    }\n",
       "\n",
       "    .dataframe tbody tr th {\n",
       "        vertical-align: top;\n",
       "    }\n",
       "</style>\n",
       "<table border=\"1\" class=\"dataframe\">\n",
       "  <thead>\n",
       "    <tr style=\"text-align: right;\">\n",
       "      <th></th>\n",
       "      <th>trip_id</th>\n",
       "      <th>arrival_time</th>\n",
       "      <th>departure_time</th>\n",
       "      <th>stop_id</th>\n",
       "      <th>stop_sequence</th>\n",
       "      <th>service_id</th>\n",
       "      <th>sub_trip_id</th>\n",
       "      <th>train+direction</th>\n",
       "      <th>train</th>\n",
       "      <th>day</th>\n",
       "    </tr>\n",
       "  </thead>\n",
       "  <tbody>\n",
       "    <tr>\n",
       "      <th>0</th>\n",
       "      <td>A20171105SAT_036000_GS.N01R</td>\n",
       "      <td>06:00:00</td>\n",
       "      <td>06:00:00</td>\n",
       "      <td>901</td>\n",
       "      <td>1</td>\n",
       "      <td>A20171105SAT</td>\n",
       "      <td>036000</td>\n",
       "      <td>GS.N01R</td>\n",
       "      <td>GS</td>\n",
       "      <td>SAT</td>\n",
       "    </tr>\n",
       "    <tr>\n",
       "      <th>1</th>\n",
       "      <td>A20171105SAT_036000_GS.N01R</td>\n",
       "      <td>06:01:30</td>\n",
       "      <td>06:01:30</td>\n",
       "      <td>902</td>\n",
       "      <td>2</td>\n",
       "      <td>A20171105SAT</td>\n",
       "      <td>036000</td>\n",
       "      <td>GS.N01R</td>\n",
       "      <td>GS</td>\n",
       "      <td>SAT</td>\n",
       "    </tr>\n",
       "    <tr>\n",
       "      <th>2</th>\n",
       "      <td>A20171105SAT_036400_GS.S01R</td>\n",
       "      <td>06:04:00</td>\n",
       "      <td>06:04:00</td>\n",
       "      <td>902</td>\n",
       "      <td>1</td>\n",
       "      <td>A20171105SAT</td>\n",
       "      <td>036400</td>\n",
       "      <td>GS.S01R</td>\n",
       "      <td>GS</td>\n",
       "      <td>SAT</td>\n",
       "    </tr>\n",
       "    <tr>\n",
       "      <th>3</th>\n",
       "      <td>A20171105SAT_036400_GS.S01R</td>\n",
       "      <td>06:05:30</td>\n",
       "      <td>06:05:30</td>\n",
       "      <td>901</td>\n",
       "      <td>2</td>\n",
       "      <td>A20171105SAT</td>\n",
       "      <td>036400</td>\n",
       "      <td>GS.S01R</td>\n",
       "      <td>GS</td>\n",
       "      <td>SAT</td>\n",
       "    </tr>\n",
       "    <tr>\n",
       "      <th>4</th>\n",
       "      <td>A20171105SAT_037000_GS.N01R</td>\n",
       "      <td>06:10:00</td>\n",
       "      <td>06:10:00</td>\n",
       "      <td>901</td>\n",
       "      <td>1</td>\n",
       "      <td>A20171105SAT</td>\n",
       "      <td>037000</td>\n",
       "      <td>GS.N01R</td>\n",
       "      <td>GS</td>\n",
       "      <td>SAT</td>\n",
       "    </tr>\n",
       "  </tbody>\n",
       "</table>\n",
       "</div>"
      ],
      "text/plain": [
       "                       trip_id arrival_time departure_time stop_id  \\\n",
       "0  A20171105SAT_036000_GS.N01R     06:00:00       06:00:00     901   \n",
       "1  A20171105SAT_036000_GS.N01R     06:01:30       06:01:30     902   \n",
       "2  A20171105SAT_036400_GS.S01R     06:04:00       06:04:00     902   \n",
       "3  A20171105SAT_036400_GS.S01R     06:05:30       06:05:30     901   \n",
       "4  A20171105SAT_037000_GS.N01R     06:10:00       06:10:00     901   \n",
       "\n",
       "   stop_sequence    service_id sub_trip_id train+direction train  day  \n",
       "0              1  A20171105SAT      036000         GS.N01R    GS  SAT  \n",
       "1              2  A20171105SAT      036000         GS.N01R    GS  SAT  \n",
       "2              1  A20171105SAT      036400         GS.S01R    GS  SAT  \n",
       "3              2  A20171105SAT      036400         GS.S01R    GS  SAT  \n",
       "4              1  A20171105SAT      037000         GS.N01R    GS  SAT  "
      ]
     },
     "execution_count": 25,
     "metadata": {},
     "output_type": "execute_result"
    }
   ],
   "source": [
    "stop_times.head()"
   ]
  }
 ],
 "metadata": {
  "kernelspec": {
   "display_name": "Python 2",
   "language": "python",
   "name": "python2"
  },
  "language_info": {
   "codemirror_mode": {
    "name": "ipython",
    "version": 2
   },
   "file_extension": ".py",
   "mimetype": "text/x-python",
   "name": "python",
   "nbconvert_exporter": "python",
   "pygments_lexer": "ipython2",
   "version": "2.7.13"
  }
 },
 "nbformat": 4,
 "nbformat_minor": 2
}
