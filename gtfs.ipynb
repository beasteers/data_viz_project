{
 "cells": [
  {
   "cell_type": "code",
   "execution_count": 115,
   "metadata": {
    "collapsed": true
   },
   "outputs": [],
   "source": [
    "import pandas as pd\n",
    "import datetime as dt\n",
    "import urllib\n",
    "import zipfile\n",
    "import re\n",
    "from datetime import datetime\n",
    "import matplotlib.pyplot as plt\n",
    "from matplotlib.dates import DateFormatter\n",
    "from matplotlib.dates import HourLocator"
   ]
  },
  {
   "cell_type": "markdown",
   "metadata": {},
   "source": [
    "## download GTFS data"
   ]
  },
  {
   "cell_type": "code",
   "execution_count": 39,
   "metadata": {
    "collapsed": false
   },
   "outputs": [
    {
     "data": {
      "text/plain": [
       "('GTFS_nyc_Subway.zip', <httplib.HTTPMessage instance at 0x131284950>)"
      ]
     },
     "execution_count": 39,
     "metadata": {},
     "output_type": "execute_result"
    }
   ],
   "source": [
    "url = 'http://web.mta.info/developers/data/nyct/subway/google_transit.zip'\n",
    "urllib.urlretrieve (url, \"GTFS_nyc_Subway.zip\")"
   ]
  },
  {
   "cell_type": "code",
   "execution_count": 40,
   "metadata": {
    "collapsed": true
   },
   "outputs": [],
   "source": [
    "zip_ref = zipfile.ZipFile(\"GTFS_nyc_Subway.zip\", 'r')\n",
    "zip_ref.extractall(\"GTFS_nyc_Subway\")\n",
    "zip_ref.close()"
   ]
  },
  {
   "cell_type": "code",
   "execution_count": 41,
   "metadata": {
    "collapsed": false
   },
   "outputs": [],
   "source": [
    "stop_times= pd.read_csv('GTFS_nyc_Subway/stop_times.txt')"
   ]
  },
  {
   "cell_type": "code",
   "execution_count": 42,
   "metadata": {
    "collapsed": false
   },
   "outputs": [
    {
     "data": {
      "text/html": [
       "<div>\n",
       "<style>\n",
       "    .dataframe thead tr:only-child th {\n",
       "        text-align: right;\n",
       "    }\n",
       "\n",
       "    .dataframe thead th {\n",
       "        text-align: left;\n",
       "    }\n",
       "\n",
       "    .dataframe tbody tr th {\n",
       "        vertical-align: top;\n",
       "    }\n",
       "</style>\n",
       "<table border=\"1\" class=\"dataframe\">\n",
       "  <thead>\n",
       "    <tr style=\"text-align: right;\">\n",
       "      <th></th>\n",
       "      <th>trip_id</th>\n",
       "      <th>arrival_time</th>\n",
       "      <th>departure_time</th>\n",
       "      <th>stop_id</th>\n",
       "      <th>stop_sequence</th>\n",
       "      <th>stop_headsign</th>\n",
       "      <th>pickup_type</th>\n",
       "      <th>drop_off_type</th>\n",
       "      <th>shape_dist_traveled</th>\n",
       "    </tr>\n",
       "  </thead>\n",
       "  <tbody>\n",
       "    <tr>\n",
       "      <th>0</th>\n",
       "      <td>A20171105SAT_036000_GS.N01R</td>\n",
       "      <td>06:00:00</td>\n",
       "      <td>06:00:00</td>\n",
       "      <td>901N</td>\n",
       "      <td>1</td>\n",
       "      <td>NaN</td>\n",
       "      <td>0</td>\n",
       "      <td>0</td>\n",
       "      <td>NaN</td>\n",
       "    </tr>\n",
       "    <tr>\n",
       "      <th>1</th>\n",
       "      <td>A20171105SAT_036000_GS.N01R</td>\n",
       "      <td>06:01:30</td>\n",
       "      <td>06:01:30</td>\n",
       "      <td>902N</td>\n",
       "      <td>2</td>\n",
       "      <td>NaN</td>\n",
       "      <td>0</td>\n",
       "      <td>0</td>\n",
       "      <td>NaN</td>\n",
       "    </tr>\n",
       "    <tr>\n",
       "      <th>2</th>\n",
       "      <td>A20171105SAT_036400_GS.S01R</td>\n",
       "      <td>06:04:00</td>\n",
       "      <td>06:04:00</td>\n",
       "      <td>902S</td>\n",
       "      <td>1</td>\n",
       "      <td>NaN</td>\n",
       "      <td>0</td>\n",
       "      <td>0</td>\n",
       "      <td>NaN</td>\n",
       "    </tr>\n",
       "    <tr>\n",
       "      <th>3</th>\n",
       "      <td>A20171105SAT_036400_GS.S01R</td>\n",
       "      <td>06:05:30</td>\n",
       "      <td>06:05:30</td>\n",
       "      <td>901S</td>\n",
       "      <td>2</td>\n",
       "      <td>NaN</td>\n",
       "      <td>0</td>\n",
       "      <td>0</td>\n",
       "      <td>NaN</td>\n",
       "    </tr>\n",
       "    <tr>\n",
       "      <th>4</th>\n",
       "      <td>A20171105SAT_037000_GS.N01R</td>\n",
       "      <td>06:10:00</td>\n",
       "      <td>06:10:00</td>\n",
       "      <td>901N</td>\n",
       "      <td>1</td>\n",
       "      <td>NaN</td>\n",
       "      <td>0</td>\n",
       "      <td>0</td>\n",
       "      <td>NaN</td>\n",
       "    </tr>\n",
       "  </tbody>\n",
       "</table>\n",
       "</div>"
      ],
      "text/plain": [
       "                       trip_id arrival_time departure_time stop_id  \\\n",
       "0  A20171105SAT_036000_GS.N01R     06:00:00       06:00:00    901N   \n",
       "1  A20171105SAT_036000_GS.N01R     06:01:30       06:01:30    902N   \n",
       "2  A20171105SAT_036400_GS.S01R     06:04:00       06:04:00    902S   \n",
       "3  A20171105SAT_036400_GS.S01R     06:05:30       06:05:30    901S   \n",
       "4  A20171105SAT_037000_GS.N01R     06:10:00       06:10:00    901N   \n",
       "\n",
       "   stop_sequence  stop_headsign  pickup_type  drop_off_type  \\\n",
       "0              1            NaN            0              0   \n",
       "1              2            NaN            0              0   \n",
       "2              1            NaN            0              0   \n",
       "3              2            NaN            0              0   \n",
       "4              1            NaN            0              0   \n",
       "\n",
       "   shape_dist_traveled  \n",
       "0                  NaN  \n",
       "1                  NaN  \n",
       "2                  NaN  \n",
       "3                  NaN  \n",
       "4                  NaN  "
      ]
     },
     "execution_count": 42,
     "metadata": {},
     "output_type": "execute_result"
    }
   ],
   "source": [
    "stop_times.head()"
   ]
  },
  {
   "cell_type": "code",
   "execution_count": 43,
   "metadata": {},
   "outputs": [
    {
     "data": {
      "text/plain": [
       "(554831, 9)"
      ]
     },
     "execution_count": 43,
     "metadata": {},
     "output_type": "execute_result"
    }
   ],
   "source": [
    "stop_times.shape"
   ]
  },
  {
   "cell_type": "markdown",
   "metadata": {},
   "source": [
    "Interpreting trip_id:\n",
    "- A20171105SAT refers to service by Saturday schedule\n",
    "- 036000 refers to trip id\n",
    "- GS.N01R refers to line and North bound, and the set of stops it'll stop at"
   ]
  },
  {
   "cell_type": "code",
   "execution_count": 44,
   "metadata": {
    "collapsed": false
   },
   "outputs": [],
   "source": [
    "stop_times['service_id']=stop_times['trip_id'].apply(lambda x: x.split('_')[0])\n",
    "stop_times['sub_trip_id']=stop_times['trip_id'].apply(lambda x: x.split('_')[1])\n",
    "stop_times['train+direction']=stop_times['trip_id'].apply(lambda x: x.split('_')[2])\n",
    "del stop_times['stop_headsign']\n",
    "del stop_times['pickup_type']\n",
    "del stop_times['drop_off_type']\n",
    "del stop_times['shape_dist_traveled']"
   ]
  },
  {
   "cell_type": "code",
   "execution_count": 45,
   "metadata": {
    "collapsed": true
   },
   "outputs": [],
   "source": [
    "stop_times['train'] = stop_times['train+direction'].apply(lambda x: x.split('.')[0])\n",
    "stop_times['day'] = stop_times['service_id'].apply(lambda x: x[-3:])"
   ]
  },
  {
   "cell_type": "code",
   "execution_count": 63,
   "metadata": {},
   "outputs": [
    {
     "data": {
      "text/html": [
       "<div>\n",
       "<style>\n",
       "    .dataframe thead tr:only-child th {\n",
       "        text-align: right;\n",
       "    }\n",
       "\n",
       "    .dataframe thead th {\n",
       "        text-align: left;\n",
       "    }\n",
       "\n",
       "    .dataframe tbody tr th {\n",
       "        vertical-align: top;\n",
       "    }\n",
       "</style>\n",
       "<table border=\"1\" class=\"dataframe\">\n",
       "  <thead>\n",
       "    <tr style=\"text-align: right;\">\n",
       "      <th></th>\n",
       "      <th>trip_id</th>\n",
       "      <th>arrival_time</th>\n",
       "      <th>departure_time</th>\n",
       "      <th>stop_id</th>\n",
       "      <th>stop_sequence</th>\n",
       "      <th>service_id</th>\n",
       "      <th>sub_trip_id</th>\n",
       "      <th>train+direction</th>\n",
       "      <th>train</th>\n",
       "      <th>day</th>\n",
       "    </tr>\n",
       "  </thead>\n",
       "  <tbody>\n",
       "    <tr>\n",
       "      <th>0</th>\n",
       "      <td>A20171105SAT_036000_GS.N01R</td>\n",
       "      <td>1900-01-01 06:00:00</td>\n",
       "      <td>06:00:00</td>\n",
       "      <td>901N</td>\n",
       "      <td>1</td>\n",
       "      <td>A20171105SAT</td>\n",
       "      <td>036000</td>\n",
       "      <td>GS.N01R</td>\n",
       "      <td>GS</td>\n",
       "      <td>SAT</td>\n",
       "    </tr>\n",
       "    <tr>\n",
       "      <th>1</th>\n",
       "      <td>A20171105SAT_036000_GS.N01R</td>\n",
       "      <td>1900-01-01 06:01:30</td>\n",
       "      <td>06:01:30</td>\n",
       "      <td>902N</td>\n",
       "      <td>2</td>\n",
       "      <td>A20171105SAT</td>\n",
       "      <td>036000</td>\n",
       "      <td>GS.N01R</td>\n",
       "      <td>GS</td>\n",
       "      <td>SAT</td>\n",
       "    </tr>\n",
       "    <tr>\n",
       "      <th>2</th>\n",
       "      <td>A20171105SAT_036400_GS.S01R</td>\n",
       "      <td>1900-01-01 06:04:00</td>\n",
       "      <td>06:04:00</td>\n",
       "      <td>902S</td>\n",
       "      <td>1</td>\n",
       "      <td>A20171105SAT</td>\n",
       "      <td>036400</td>\n",
       "      <td>GS.S01R</td>\n",
       "      <td>GS</td>\n",
       "      <td>SAT</td>\n",
       "    </tr>\n",
       "    <tr>\n",
       "      <th>3</th>\n",
       "      <td>A20171105SAT_036400_GS.S01R</td>\n",
       "      <td>1900-01-01 06:05:30</td>\n",
       "      <td>06:05:30</td>\n",
       "      <td>901S</td>\n",
       "      <td>2</td>\n",
       "      <td>A20171105SAT</td>\n",
       "      <td>036400</td>\n",
       "      <td>GS.S01R</td>\n",
       "      <td>GS</td>\n",
       "      <td>SAT</td>\n",
       "    </tr>\n",
       "    <tr>\n",
       "      <th>4</th>\n",
       "      <td>A20171105SAT_037000_GS.N01R</td>\n",
       "      <td>1900-01-01 06:10:00</td>\n",
       "      <td>06:10:00</td>\n",
       "      <td>901N</td>\n",
       "      <td>1</td>\n",
       "      <td>A20171105SAT</td>\n",
       "      <td>037000</td>\n",
       "      <td>GS.N01R</td>\n",
       "      <td>GS</td>\n",
       "      <td>SAT</td>\n",
       "    </tr>\n",
       "  </tbody>\n",
       "</table>\n",
       "</div>"
      ],
      "text/plain": [
       "                       trip_id        arrival_time departure_time stop_id  \\\n",
       "0  A20171105SAT_036000_GS.N01R 1900-01-01 06:00:00       06:00:00    901N   \n",
       "1  A20171105SAT_036000_GS.N01R 1900-01-01 06:01:30       06:01:30    902N   \n",
       "2  A20171105SAT_036400_GS.S01R 1900-01-01 06:04:00       06:04:00    902S   \n",
       "3  A20171105SAT_036400_GS.S01R 1900-01-01 06:05:30       06:05:30    901S   \n",
       "4  A20171105SAT_037000_GS.N01R 1900-01-01 06:10:00       06:10:00    901N   \n",
       "\n",
       "   stop_sequence    service_id sub_trip_id train+direction train  day  \n",
       "0              1  A20171105SAT      036000         GS.N01R    GS  SAT  \n",
       "1              2  A20171105SAT      036000         GS.N01R    GS  SAT  \n",
       "2              1  A20171105SAT      036400         GS.S01R    GS  SAT  \n",
       "3              2  A20171105SAT      036400         GS.S01R    GS  SAT  \n",
       "4              1  A20171105SAT      037000         GS.N01R    GS  SAT  "
      ]
     },
     "execution_count": 63,
     "metadata": {},
     "output_type": "execute_result"
    }
   ],
   "source": [
    "stop_times.head()"
   ]
  },
  {
   "cell_type": "code",
   "execution_count": 47,
   "metadata": {},
   "outputs": [],
   "source": [
    "#drop all records with time > 24:00:00\n",
    "stop_times = stop_times.drop(stop_times[(stop_times.arrival_time > '23:59:59')].index)"
   ]
  },
  {
   "cell_type": "code",
   "execution_count": 65,
   "metadata": {},
   "outputs": [],
   "source": [
    "stop_times['arrival_time'] =  pd.to_datetime(stop_times['arrival_time'], format='%H:%M').dt.time"
   ]
  },
  {
   "cell_type": "code",
   "execution_count": 67,
   "metadata": {},
   "outputs": [
    {
     "data": {
      "text/plain": [
       "trip_id            object\n",
       "arrival_time       object\n",
       "departure_time     object\n",
       "stop_id            object\n",
       "stop_sequence       int64\n",
       "service_id         object\n",
       "sub_trip_id        object\n",
       "train+direction    object\n",
       "train              object\n",
       "day                object\n",
       "dtype: object"
      ]
     },
     "execution_count": 67,
     "metadata": {},
     "output_type": "execute_result"
    }
   ],
   "source": [
    "stop_times.dtypes"
   ]
  },
  {
   "cell_type": "code",
   "execution_count": 70,
   "metadata": {},
   "outputs": [
    {
     "data": {
      "text/plain": [
       "(536886, 10)"
      ]
     },
     "execution_count": 70,
     "metadata": {},
     "output_type": "execute_result"
    }
   ],
   "source": [
    "stop_times.shape"
   ]
  },
  {
   "cell_type": "code",
   "execution_count": 71,
   "metadata": {},
   "outputs": [
    {
     "data": {
      "text/plain": [
       "20351"
      ]
     },
     "execution_count": 71,
     "metadata": {},
     "output_type": "execute_result"
    }
   ],
   "source": [
    "stop_times['trip_id'].nunique()"
   ]
  },
  {
   "cell_type": "code",
   "execution_count": 72,
   "metadata": {},
   "outputs": [
    {
     "data": {
      "text/plain": [
       "array(['GS', '1', '2', '3', '4', '5', '6', '7', 'N', 'Q', 'R', 'A', 'B',\n",
       "       'C', 'D', 'E', 'F', 'FS', 'G', 'H', 'J', 'L', 'M', 'SI'], dtype=object)"
      ]
     },
     "execution_count": 72,
     "metadata": {},
     "output_type": "execute_result"
    }
   ],
   "source": [
    "stop_times['train'].unique()"
   ]
  },
  {
   "cell_type": "code",
   "execution_count": 73,
   "metadata": {},
   "outputs": [
    {
     "data": {
      "text/plain": [
       "array(['SAT', 'SUN', 'WKD'], dtype=object)"
      ]
     },
     "execution_count": 73,
     "metadata": {},
     "output_type": "execute_result"
    }
   ],
   "source": [
    "stop_times['day'].unique()"
   ]
  },
  {
   "cell_type": "code",
   "execution_count": 74,
   "metadata": {
    "collapsed": false
   },
   "outputs": [],
   "source": [
    "stop_times.loc[stop_times[stop_times['train+direction'].isin(['N..N72R','N..S72R'])].index,['train']]='W'"
   ]
  },
  {
   "cell_type": "code",
   "execution_count": 75,
   "metadata": {
    "collapsed": false
   },
   "outputs": [],
   "source": [
    "stop_times.to_csv('stop_times_cleaned')"
   ]
  },
  {
   "cell_type": "markdown",
   "metadata": {},
   "source": [
    "No Z train info in schedule data. Z is same as J.\n",
    "\n",
    "FS(Brooklyn), GS(Time sq- Grand Central), H(JFK) are all S train in map, "
   ]
  },
  {
   "cell_type": "code",
   "execution_count": 76,
   "metadata": {
    "collapsed": true
   },
   "outputs": [],
   "source": [
    "stops=pd.read_csv('GTFS_nyc_Subway/stops.txt')"
   ]
  },
  {
   "cell_type": "code",
   "execution_count": 77,
   "metadata": {
    "collapsed": false
   },
   "outputs": [],
   "source": [
    "stop_times = stop_times.merge(stops[['stop_id','stop_name','stop_lat','stop_lon']],on='stop_id',how='left')"
   ]
  },
  {
   "cell_type": "code",
   "execution_count": 78,
   "metadata": {
    "collapsed": false
   },
   "outputs": [
    {
     "data": {
      "text/html": [
       "<div>\n",
       "<style>\n",
       "    .dataframe thead tr:only-child th {\n",
       "        text-align: right;\n",
       "    }\n",
       "\n",
       "    .dataframe thead th {\n",
       "        text-align: left;\n",
       "    }\n",
       "\n",
       "    .dataframe tbody tr th {\n",
       "        vertical-align: top;\n",
       "    }\n",
       "</style>\n",
       "<table border=\"1\" class=\"dataframe\">\n",
       "  <thead>\n",
       "    <tr style=\"text-align: right;\">\n",
       "      <th></th>\n",
       "      <th>trip_id</th>\n",
       "      <th>arrival_time</th>\n",
       "      <th>departure_time</th>\n",
       "      <th>stop_id</th>\n",
       "      <th>stop_sequence</th>\n",
       "      <th>service_id</th>\n",
       "      <th>sub_trip_id</th>\n",
       "      <th>train+direction</th>\n",
       "      <th>train</th>\n",
       "      <th>day</th>\n",
       "      <th>stop_name</th>\n",
       "      <th>stop_lat</th>\n",
       "      <th>stop_lon</th>\n",
       "    </tr>\n",
       "  </thead>\n",
       "  <tbody>\n",
       "    <tr>\n",
       "      <th>0</th>\n",
       "      <td>A20171105SAT_036000_GS.N01R</td>\n",
       "      <td>06:00:00</td>\n",
       "      <td>06:00:00</td>\n",
       "      <td>901N</td>\n",
       "      <td>1</td>\n",
       "      <td>A20171105SAT</td>\n",
       "      <td>036000</td>\n",
       "      <td>GS.N01R</td>\n",
       "      <td>GS</td>\n",
       "      <td>SAT</td>\n",
       "      <td>Grand Central - 42 St</td>\n",
       "      <td>40.752769</td>\n",
       "      <td>-73.979189</td>\n",
       "    </tr>\n",
       "    <tr>\n",
       "      <th>1</th>\n",
       "      <td>A20171105SAT_036000_GS.N01R</td>\n",
       "      <td>06:01:30</td>\n",
       "      <td>06:01:30</td>\n",
       "      <td>902N</td>\n",
       "      <td>2</td>\n",
       "      <td>A20171105SAT</td>\n",
       "      <td>036000</td>\n",
       "      <td>GS.N01R</td>\n",
       "      <td>GS</td>\n",
       "      <td>SAT</td>\n",
       "      <td>Times Sq - 42 St</td>\n",
       "      <td>40.755983</td>\n",
       "      <td>-73.986229</td>\n",
       "    </tr>\n",
       "    <tr>\n",
       "      <th>2</th>\n",
       "      <td>A20171105SAT_036400_GS.S01R</td>\n",
       "      <td>06:04:00</td>\n",
       "      <td>06:04:00</td>\n",
       "      <td>902S</td>\n",
       "      <td>1</td>\n",
       "      <td>A20171105SAT</td>\n",
       "      <td>036400</td>\n",
       "      <td>GS.S01R</td>\n",
       "      <td>GS</td>\n",
       "      <td>SAT</td>\n",
       "      <td>Times Sq - 42 St</td>\n",
       "      <td>40.755983</td>\n",
       "      <td>-73.986229</td>\n",
       "    </tr>\n",
       "    <tr>\n",
       "      <th>3</th>\n",
       "      <td>A20171105SAT_036400_GS.S01R</td>\n",
       "      <td>06:05:30</td>\n",
       "      <td>06:05:30</td>\n",
       "      <td>901S</td>\n",
       "      <td>2</td>\n",
       "      <td>A20171105SAT</td>\n",
       "      <td>036400</td>\n",
       "      <td>GS.S01R</td>\n",
       "      <td>GS</td>\n",
       "      <td>SAT</td>\n",
       "      <td>Grand Central - 42 St</td>\n",
       "      <td>40.752769</td>\n",
       "      <td>-73.979189</td>\n",
       "    </tr>\n",
       "    <tr>\n",
       "      <th>4</th>\n",
       "      <td>A20171105SAT_037000_GS.N01R</td>\n",
       "      <td>06:10:00</td>\n",
       "      <td>06:10:00</td>\n",
       "      <td>901N</td>\n",
       "      <td>1</td>\n",
       "      <td>A20171105SAT</td>\n",
       "      <td>037000</td>\n",
       "      <td>GS.N01R</td>\n",
       "      <td>GS</td>\n",
       "      <td>SAT</td>\n",
       "      <td>Grand Central - 42 St</td>\n",
       "      <td>40.752769</td>\n",
       "      <td>-73.979189</td>\n",
       "    </tr>\n",
       "  </tbody>\n",
       "</table>\n",
       "</div>"
      ],
      "text/plain": [
       "                       trip_id arrival_time departure_time stop_id  \\\n",
       "0  A20171105SAT_036000_GS.N01R     06:00:00       06:00:00    901N   \n",
       "1  A20171105SAT_036000_GS.N01R     06:01:30       06:01:30    902N   \n",
       "2  A20171105SAT_036400_GS.S01R     06:04:00       06:04:00    902S   \n",
       "3  A20171105SAT_036400_GS.S01R     06:05:30       06:05:30    901S   \n",
       "4  A20171105SAT_037000_GS.N01R     06:10:00       06:10:00    901N   \n",
       "\n",
       "   stop_sequence    service_id sub_trip_id train+direction train  day  \\\n",
       "0              1  A20171105SAT      036000         GS.N01R    GS  SAT   \n",
       "1              2  A20171105SAT      036000         GS.N01R    GS  SAT   \n",
       "2              1  A20171105SAT      036400         GS.S01R    GS  SAT   \n",
       "3              2  A20171105SAT      036400         GS.S01R    GS  SAT   \n",
       "4              1  A20171105SAT      037000         GS.N01R    GS  SAT   \n",
       "\n",
       "               stop_name   stop_lat   stop_lon  \n",
       "0  Grand Central - 42 St  40.752769 -73.979189  \n",
       "1       Times Sq - 42 St  40.755983 -73.986229  \n",
       "2       Times Sq - 42 St  40.755983 -73.986229  \n",
       "3  Grand Central - 42 St  40.752769 -73.979189  \n",
       "4  Grand Central - 42 St  40.752769 -73.979189  "
      ]
     },
     "execution_count": 78,
     "metadata": {},
     "output_type": "execute_result"
    }
   ],
   "source": [
    "stop_times.head()"
   ]
  },
  {
   "cell_type": "code",
   "execution_count": 81,
   "metadata": {},
   "outputs": [
    {
     "data": {
      "text/plain": [
       "(536886, 13)"
      ]
     },
     "execution_count": 81,
     "metadata": {},
     "output_type": "execute_result"
    }
   ],
   "source": [
    "stop_times.shape"
   ]
  },
  {
   "cell_type": "code",
   "execution_count": 82,
   "metadata": {},
   "outputs": [],
   "source": [
    "stop_times['arrival_time'] = stop_times['arrival_time'].astype(datetime)"
   ]
  },
  {
   "cell_type": "code",
   "execution_count": 83,
   "metadata": {},
   "outputs": [
    {
     "data": {
      "text/plain": [
       "trip_id             object\n",
       "arrival_time        object\n",
       "departure_time      object\n",
       "stop_id             object\n",
       "stop_sequence        int64\n",
       "service_id          object\n",
       "sub_trip_id         object\n",
       "train+direction     object\n",
       "train               object\n",
       "day                 object\n",
       "stop_name           object\n",
       "stop_lat           float64\n",
       "stop_lon           float64\n",
       "dtype: object"
      ]
     },
     "execution_count": 83,
     "metadata": {},
     "output_type": "execute_result"
    }
   ],
   "source": [
    "stop_times.dtypes"
   ]
  },
  {
   "cell_type": "markdown",
   "metadata": {},
   "source": [
    "## Visualize by lines"
   ]
  },
  {
   "cell_type": "code",
   "execution_count": 84,
   "metadata": {},
   "outputs": [],
   "source": [
    "dict_of_regions = {k: v for k, v in stop_times.groupby('train')}"
   ]
  },
  {
   "cell_type": "code",
   "execution_count": 85,
   "metadata": {},
   "outputs": [
    {
     "data": {
      "text/html": [
       "<div>\n",
       "<style>\n",
       "    .dataframe thead tr:only-child th {\n",
       "        text-align: right;\n",
       "    }\n",
       "\n",
       "    .dataframe thead th {\n",
       "        text-align: left;\n",
       "    }\n",
       "\n",
       "    .dataframe tbody tr th {\n",
       "        vertical-align: top;\n",
       "    }\n",
       "</style>\n",
       "<table border=\"1\" class=\"dataframe\">\n",
       "  <thead>\n",
       "    <tr style=\"text-align: right;\">\n",
       "      <th></th>\n",
       "      <th>trip_id</th>\n",
       "      <th>arrival_time</th>\n",
       "      <th>departure_time</th>\n",
       "      <th>stop_id</th>\n",
       "      <th>stop_sequence</th>\n",
       "      <th>service_id</th>\n",
       "      <th>sub_trip_id</th>\n",
       "      <th>train+direction</th>\n",
       "      <th>train</th>\n",
       "      <th>day</th>\n",
       "      <th>stop_name</th>\n",
       "      <th>stop_lat</th>\n",
       "      <th>stop_lon</th>\n",
       "    </tr>\n",
       "  </thead>\n",
       "  <tbody>\n",
       "    <tr>\n",
       "      <th>1356</th>\n",
       "      <td>A20171105WKD_029750_1..S03R</td>\n",
       "      <td>04:57:30</td>\n",
       "      <td>04:57:30</td>\n",
       "      <td>101S</td>\n",
       "      <td>1</td>\n",
       "      <td>A20171105WKD</td>\n",
       "      <td>029750</td>\n",
       "      <td>1..S03R</td>\n",
       "      <td>1</td>\n",
       "      <td>WKD</td>\n",
       "      <td>Van Cortlandt Park - 242 St</td>\n",
       "      <td>40.889248</td>\n",
       "      <td>-73.898583</td>\n",
       "    </tr>\n",
       "    <tr>\n",
       "      <th>1357</th>\n",
       "      <td>A20171105WKD_029750_1..S03R</td>\n",
       "      <td>04:59:00</td>\n",
       "      <td>04:59:00</td>\n",
       "      <td>103S</td>\n",
       "      <td>2</td>\n",
       "      <td>A20171105WKD</td>\n",
       "      <td>029750</td>\n",
       "      <td>1..S03R</td>\n",
       "      <td>1</td>\n",
       "      <td>WKD</td>\n",
       "      <td>238 St</td>\n",
       "      <td>40.884667</td>\n",
       "      <td>-73.900870</td>\n",
       "    </tr>\n",
       "    <tr>\n",
       "      <th>1358</th>\n",
       "      <td>A20171105WKD_029750_1..S03R</td>\n",
       "      <td>05:00:30</td>\n",
       "      <td>05:00:30</td>\n",
       "      <td>104S</td>\n",
       "      <td>3</td>\n",
       "      <td>A20171105WKD</td>\n",
       "      <td>029750</td>\n",
       "      <td>1..S03R</td>\n",
       "      <td>1</td>\n",
       "      <td>WKD</td>\n",
       "      <td>231 St</td>\n",
       "      <td>40.878856</td>\n",
       "      <td>-73.904834</td>\n",
       "    </tr>\n",
       "    <tr>\n",
       "      <th>1359</th>\n",
       "      <td>A20171105WKD_029750_1..S03R</td>\n",
       "      <td>05:02:00</td>\n",
       "      <td>05:02:00</td>\n",
       "      <td>106S</td>\n",
       "      <td>4</td>\n",
       "      <td>A20171105WKD</td>\n",
       "      <td>029750</td>\n",
       "      <td>1..S03R</td>\n",
       "      <td>1</td>\n",
       "      <td>WKD</td>\n",
       "      <td>Marble Hill - 225 St</td>\n",
       "      <td>40.874561</td>\n",
       "      <td>-73.909831</td>\n",
       "    </tr>\n",
       "    <tr>\n",
       "      <th>1360</th>\n",
       "      <td>A20171105WKD_029750_1..S03R</td>\n",
       "      <td>05:03:30</td>\n",
       "      <td>05:03:30</td>\n",
       "      <td>107S</td>\n",
       "      <td>5</td>\n",
       "      <td>A20171105WKD</td>\n",
       "      <td>029750</td>\n",
       "      <td>1..S03R</td>\n",
       "      <td>1</td>\n",
       "      <td>WKD</td>\n",
       "      <td>215 St</td>\n",
       "      <td>40.869444</td>\n",
       "      <td>-73.915279</td>\n",
       "    </tr>\n",
       "  </tbody>\n",
       "</table>\n",
       "</div>"
      ],
      "text/plain": [
       "                          trip_id arrival_time departure_time stop_id  \\\n",
       "1356  A20171105WKD_029750_1..S03R     04:57:30       04:57:30    101S   \n",
       "1357  A20171105WKD_029750_1..S03R     04:59:00       04:59:00    103S   \n",
       "1358  A20171105WKD_029750_1..S03R     05:00:30       05:00:30    104S   \n",
       "1359  A20171105WKD_029750_1..S03R     05:02:00       05:02:00    106S   \n",
       "1360  A20171105WKD_029750_1..S03R     05:03:30       05:03:30    107S   \n",
       "\n",
       "      stop_sequence    service_id sub_trip_id train+direction train  day  \\\n",
       "1356              1  A20171105WKD      029750         1..S03R     1  WKD   \n",
       "1357              2  A20171105WKD      029750         1..S03R     1  WKD   \n",
       "1358              3  A20171105WKD      029750         1..S03R     1  WKD   \n",
       "1359              4  A20171105WKD      029750         1..S03R     1  WKD   \n",
       "1360              5  A20171105WKD      029750         1..S03R     1  WKD   \n",
       "\n",
       "                        stop_name   stop_lat   stop_lon  \n",
       "1356  Van Cortlandt Park - 242 St  40.889248 -73.898583  \n",
       "1357                       238 St  40.884667 -73.900870  \n",
       "1358                       231 St  40.878856 -73.904834  \n",
       "1359         Marble Hill - 225 St  40.874561 -73.909831  \n",
       "1360                       215 St  40.869444 -73.915279  "
      ]
     },
     "execution_count": 85,
     "metadata": {},
     "output_type": "execute_result"
    }
   ],
   "source": [
    "#for line 1\n",
    "dict_of_regions['1'].head()"
   ]
  },
  {
   "cell_type": "code",
   "execution_count": 86,
   "metadata": {},
   "outputs": [
    {
     "data": {
      "text/plain": [
       "array([datetime.time(4, 57, 30), datetime.time(4, 59),\n",
       "       datetime.time(5, 0, 30), ..., datetime.time(4, 33),\n",
       "       datetime.time(5, 13), datetime.time(5, 19, 30)], dtype=object)"
      ]
     },
     "execution_count": 86,
     "metadata": {},
     "output_type": "execute_result"
    }
   ],
   "source": [
    "dict_of_regions['1']['arrival_time'].unique()"
   ]
  },
  {
   "cell_type": "code",
   "execution_count": 89,
   "metadata": {},
   "outputs": [
    {
     "data": {
      "text/plain": [
       "array(['1..S03R', '1..N03R', '1..S04R', '1..N12R', '1..S12R', '1..N13R'], dtype=object)"
      ]
     },
     "execution_count": 89,
     "metadata": {},
     "output_type": "execute_result"
    }
   ],
   "source": [
    "dict_of_regions['1']['train+direction'].unique()"
   ]
  },
  {
   "cell_type": "code",
   "execution_count": 94,
   "metadata": {},
   "outputs": [
    {
     "data": {
      "text/plain": [
       "873"
      ]
     },
     "execution_count": 94,
     "metadata": {},
     "output_type": "execute_result"
    }
   ],
   "source": [
    "dict_of_regions['1']['sub_trip_id'].nunique()"
   ]
  },
  {
   "cell_type": "code",
   "execution_count": 129,
   "metadata": {},
   "outputs": [],
   "source": [
    "#filter only northbound\n",
    "north = ['1..N03R', '1..N12R', '1..N13R']\n",
    "df1N = dict_of_regions['1'].loc[dict_of_regions['1']['train+direction'].isin(north)]\n"
   ]
  },
  {
   "cell_type": "code",
   "execution_count": 131,
   "metadata": {},
   "outputs": [
    {
     "data": {
      "text/html": [
       "<div>\n",
       "<style>\n",
       "    .dataframe thead tr:only-child th {\n",
       "        text-align: right;\n",
       "    }\n",
       "\n",
       "    .dataframe thead th {\n",
       "        text-align: left;\n",
       "    }\n",
       "\n",
       "    .dataframe tbody tr th {\n",
       "        vertical-align: top;\n",
       "    }\n",
       "</style>\n",
       "<table border=\"1\" class=\"dataframe\">\n",
       "  <thead>\n",
       "    <tr style=\"text-align: right;\">\n",
       "      <th></th>\n",
       "      <th>trip_id</th>\n",
       "      <th>arrival_time</th>\n",
       "      <th>departure_time</th>\n",
       "      <th>stop_id</th>\n",
       "      <th>stop_sequence</th>\n",
       "      <th>service_id</th>\n",
       "      <th>sub_trip_id</th>\n",
       "      <th>train+direction</th>\n",
       "      <th>train</th>\n",
       "      <th>day</th>\n",
       "      <th>stop_name</th>\n",
       "      <th>stop_lat</th>\n",
       "      <th>stop_lon</th>\n",
       "    </tr>\n",
       "  </thead>\n",
       "  <tbody>\n",
       "    <tr>\n",
       "      <th>1394</th>\n",
       "      <td>A20171105WKD_036150_1..N03R</td>\n",
       "      <td>06:01:30</td>\n",
       "      <td>06:01:30</td>\n",
       "      <td>142N</td>\n",
       "      <td>1</td>\n",
       "      <td>A20171105WKD</td>\n",
       "      <td>036150</td>\n",
       "      <td>1..N03R</td>\n",
       "      <td>1</td>\n",
       "      <td>WKD</td>\n",
       "      <td>South Ferry</td>\n",
       "      <td>40.702068</td>\n",
       "      <td>-74.013664</td>\n",
       "    </tr>\n",
       "    <tr>\n",
       "      <th>1395</th>\n",
       "      <td>A20171105WKD_036150_1..N03R</td>\n",
       "      <td>06:04:00</td>\n",
       "      <td>06:04:00</td>\n",
       "      <td>139N</td>\n",
       "      <td>2</td>\n",
       "      <td>A20171105WKD</td>\n",
       "      <td>036150</td>\n",
       "      <td>1..N03R</td>\n",
       "      <td>1</td>\n",
       "      <td>WKD</td>\n",
       "      <td>Rector St</td>\n",
       "      <td>40.707513</td>\n",
       "      <td>-74.013783</td>\n",
       "    </tr>\n",
       "    <tr>\n",
       "      <th>1396</th>\n",
       "      <td>A20171105WKD_036150_1..N03R</td>\n",
       "      <td>06:05:00</td>\n",
       "      <td>06:05:00</td>\n",
       "      <td>138N</td>\n",
       "      <td>3</td>\n",
       "      <td>A20171105WKD</td>\n",
       "      <td>036150</td>\n",
       "      <td>1..N03R</td>\n",
       "      <td>1</td>\n",
       "      <td>WKD</td>\n",
       "      <td>Cortlandt St</td>\n",
       "      <td>40.711835</td>\n",
       "      <td>-74.012188</td>\n",
       "    </tr>\n",
       "    <tr>\n",
       "      <th>1397</th>\n",
       "      <td>A20171105WKD_036150_1..N03R</td>\n",
       "      <td>06:06:00</td>\n",
       "      <td>06:06:00</td>\n",
       "      <td>137N</td>\n",
       "      <td>4</td>\n",
       "      <td>A20171105WKD</td>\n",
       "      <td>036150</td>\n",
       "      <td>1..N03R</td>\n",
       "      <td>1</td>\n",
       "      <td>WKD</td>\n",
       "      <td>Chambers St</td>\n",
       "      <td>40.715478</td>\n",
       "      <td>-74.009266</td>\n",
       "    </tr>\n",
       "    <tr>\n",
       "      <th>1398</th>\n",
       "      <td>A20171105WKD_036150_1..N03R</td>\n",
       "      <td>06:07:30</td>\n",
       "      <td>06:07:30</td>\n",
       "      <td>136N</td>\n",
       "      <td>5</td>\n",
       "      <td>A20171105WKD</td>\n",
       "      <td>036150</td>\n",
       "      <td>1..N03R</td>\n",
       "      <td>1</td>\n",
       "      <td>WKD</td>\n",
       "      <td>Franklin St</td>\n",
       "      <td>40.719318</td>\n",
       "      <td>-74.006886</td>\n",
       "    </tr>\n",
       "  </tbody>\n",
       "</table>\n",
       "</div>"
      ],
      "text/plain": [
       "                          trip_id arrival_time departure_time stop_id  \\\n",
       "1394  A20171105WKD_036150_1..N03R     06:01:30       06:01:30    142N   \n",
       "1395  A20171105WKD_036150_1..N03R     06:04:00       06:04:00    139N   \n",
       "1396  A20171105WKD_036150_1..N03R     06:05:00       06:05:00    138N   \n",
       "1397  A20171105WKD_036150_1..N03R     06:06:00       06:06:00    137N   \n",
       "1398  A20171105WKD_036150_1..N03R     06:07:30       06:07:30    136N   \n",
       "\n",
       "      stop_sequence    service_id sub_trip_id train+direction train  day  \\\n",
       "1394              1  A20171105WKD      036150         1..N03R     1  WKD   \n",
       "1395              2  A20171105WKD      036150         1..N03R     1  WKD   \n",
       "1396              3  A20171105WKD      036150         1..N03R     1  WKD   \n",
       "1397              4  A20171105WKD      036150         1..N03R     1  WKD   \n",
       "1398              5  A20171105WKD      036150         1..N03R     1  WKD   \n",
       "\n",
       "         stop_name   stop_lat   stop_lon  \n",
       "1394   South Ferry  40.702068 -74.013664  \n",
       "1395     Rector St  40.707513 -74.013783  \n",
       "1396  Cortlandt St  40.711835 -74.012188  \n",
       "1397   Chambers St  40.715478 -74.009266  \n",
       "1398   Franklin St  40.719318 -74.006886  "
      ]
     },
     "execution_count": 131,
     "metadata": {},
     "output_type": "execute_result"
    }
   ],
   "source": [
    "df1N.head()"
   ]
  }
 ],
 "metadata": {
  "anaconda-cloud": {},
  "kernelspec": {
   "display_name": "Python 2",
   "language": "python",
   "name": "python2"
  },
  "language_info": {
   "codemirror_mode": {
    "name": "ipython",
    "version": 2
   },
   "file_extension": ".py",
   "mimetype": "text/x-python",
   "name": "python",
   "nbconvert_exporter": "python",
   "pygments_lexer": "ipython2",
   "version": "2.7.13"
  }
 },
 "nbformat": 4,
 "nbformat_minor": 2
}
