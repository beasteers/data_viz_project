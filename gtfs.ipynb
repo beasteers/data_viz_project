{
 "cells": [
  {
   "cell_type": "code",
   "execution_count": 1,
   "metadata": {
    "collapsed": true
   },
   "outputs": [
    {
     "data": {
      "application/javascript": [
       "$(document).ready(\n",
       "    function() {\n",
       "        function appendUniqueDiv(){\n",
       "            // append a div with our uuid so we can check that it's already\n",
       "            // been sent and avoid duplicates on page reload\n",
       "            var notifiedDiv = document.createElement(\"div\")\n",
       "            notifiedDiv.id = \"46855aa6-9ed7-4634-9a57-c66c69cf257b\"\n",
       "            element.append(notifiedDiv)\n",
       "        }\n",
       "\n",
       "        // only send notifications if the pageload is complete; this will\n",
       "        // help stop extra notifications when a saved notebook is loaded,\n",
       "        // which during testing gives us state \"interactive\", not \"complete\"\n",
       "        if (document.readyState === 'complete') {\n",
       "            // check for the div that signifies that the notification\n",
       "            // was already sent\n",
       "            if (document.getElementById(\"46855aa6-9ed7-4634-9a57-c66c69cf257b\") === null) {\n",
       "                var notificationPayload = {\"body\": \"All done!\", \"requireInteraction\": false, \"icon\": \"/static/base/images/favicon.ico\", \"autonotify_after\": \"30\", \"autonotify_output\": true};\n",
       "                if (Notification.permission !== 'denied') {\n",
       "                    if (Notification.permission !== 'granted') { \n",
       "                        Notification.requestPermission(function (permission) {\n",
       "                            if(!('permission' in Notification)) {\n",
       "                                Notification.permission = permission\n",
       "                            }\n",
       "                            if (Notification.permission === 'granted') {\n",
       "                                var notification = new Notification(\"Jupyter Notebook\", notificationPayload)\n",
       "                                appendUniqueDiv()\n",
       "                            }\n",
       "                        })\n",
       "                    } else if (Notification.permission === 'granted') {\n",
       "                        var notification = new Notification(\"Jupyter Notebook\", notificationPayload)\n",
       "                        appendUniqueDiv()\n",
       "                    }\n",
       "                }\n",
       "            }\n",
       "        }\n",
       "    }\n",
       ")\n"
      ],
      "text/plain": [
       "<IPython.core.display.Javascript object>"
      ]
     },
     "metadata": {},
     "output_type": "display_data"
    }
   ],
   "source": [
    "import pandas as pd\n",
    "import datetime as dt\n",
    "import urllib\n",
    "import zipfile\n",
    "import re\n",
    "from datetime import datetime\n",
    "import matplotlib.pyplot as plt\n",
    "from matplotlib.dates import DateFormatter\n",
    "from matplotlib.dates import HourLocator"
   ]
  },
  {
   "cell_type": "markdown",
   "metadata": {},
   "source": [
    "## download GTFS data"
   ]
  },
  {
   "cell_type": "code",
   "execution_count": 2,
   "metadata": {
    "collapsed": false
   },
   "outputs": [
    {
     "data": {
      "text/plain": [
       "('GTFS_nyc_Subway.zip', <httplib.HTTPMessage instance at 0x10e9c5170>)"
      ]
     },
     "execution_count": 2,
     "metadata": {},
     "output_type": "execute_result"
    }
   ],
   "source": [
    "url = 'http://web.mta.info/developers/data/nyct/subway/google_transit.zip'\n",
    "urllib.urlretrieve (url, \"GTFS_nyc_Subway.zip\")"
   ]
  },
  {
   "cell_type": "code",
   "execution_count": 3,
   "metadata": {
    "collapsed": true
   },
   "outputs": [],
   "source": [
    "zip_ref = zipfile.ZipFile(\"GTFS_nyc_Subway.zip\", 'r')\n",
    "zip_ref.extractall(\"GTFS_nyc_Subway\")\n",
    "zip_ref.close()"
   ]
  },
  {
   "cell_type": "code",
   "execution_count": 45,
   "metadata": {
    "collapsed": false
   },
   "outputs": [],
   "source": [
    "stop_times= pd.read_csv('GTFS_nyc_Subway/stop_times.txt')"
   ]
  },
  {
   "cell_type": "code",
   "execution_count": 46,
   "metadata": {
    "collapsed": false
   },
   "outputs": [
    {
     "data": {
      "text/html": [
       "<div>\n",
       "<style>\n",
       "    .dataframe thead tr:only-child th {\n",
       "        text-align: right;\n",
       "    }\n",
       "\n",
       "    .dataframe thead th {\n",
       "        text-align: left;\n",
       "    }\n",
       "\n",
       "    .dataframe tbody tr th {\n",
       "        vertical-align: top;\n",
       "    }\n",
       "</style>\n",
       "<table border=\"1\" class=\"dataframe\">\n",
       "  <thead>\n",
       "    <tr style=\"text-align: right;\">\n",
       "      <th></th>\n",
       "      <th>trip_id</th>\n",
       "      <th>arrival_time</th>\n",
       "      <th>departure_time</th>\n",
       "      <th>stop_id</th>\n",
       "      <th>stop_sequence</th>\n",
       "      <th>stop_headsign</th>\n",
       "      <th>pickup_type</th>\n",
       "      <th>drop_off_type</th>\n",
       "      <th>shape_dist_traveled</th>\n",
       "    </tr>\n",
       "  </thead>\n",
       "  <tbody>\n",
       "    <tr>\n",
       "      <th>0</th>\n",
       "      <td>A20171105SAT_036000_GS.N01R</td>\n",
       "      <td>06:00:00</td>\n",
       "      <td>06:00:00</td>\n",
       "      <td>901N</td>\n",
       "      <td>1</td>\n",
       "      <td>NaN</td>\n",
       "      <td>0</td>\n",
       "      <td>0</td>\n",
       "      <td>NaN</td>\n",
       "    </tr>\n",
       "    <tr>\n",
       "      <th>1</th>\n",
       "      <td>A20171105SAT_036000_GS.N01R</td>\n",
       "      <td>06:01:30</td>\n",
       "      <td>06:01:30</td>\n",
       "      <td>902N</td>\n",
       "      <td>2</td>\n",
       "      <td>NaN</td>\n",
       "      <td>0</td>\n",
       "      <td>0</td>\n",
       "      <td>NaN</td>\n",
       "    </tr>\n",
       "    <tr>\n",
       "      <th>2</th>\n",
       "      <td>A20171105SAT_036400_GS.S01R</td>\n",
       "      <td>06:04:00</td>\n",
       "      <td>06:04:00</td>\n",
       "      <td>902S</td>\n",
       "      <td>1</td>\n",
       "      <td>NaN</td>\n",
       "      <td>0</td>\n",
       "      <td>0</td>\n",
       "      <td>NaN</td>\n",
       "    </tr>\n",
       "    <tr>\n",
       "      <th>3</th>\n",
       "      <td>A20171105SAT_036400_GS.S01R</td>\n",
       "      <td>06:05:30</td>\n",
       "      <td>06:05:30</td>\n",
       "      <td>901S</td>\n",
       "      <td>2</td>\n",
       "      <td>NaN</td>\n",
       "      <td>0</td>\n",
       "      <td>0</td>\n",
       "      <td>NaN</td>\n",
       "    </tr>\n",
       "    <tr>\n",
       "      <th>4</th>\n",
       "      <td>A20171105SAT_037000_GS.N01R</td>\n",
       "      <td>06:10:00</td>\n",
       "      <td>06:10:00</td>\n",
       "      <td>901N</td>\n",
       "      <td>1</td>\n",
       "      <td>NaN</td>\n",
       "      <td>0</td>\n",
       "      <td>0</td>\n",
       "      <td>NaN</td>\n",
       "    </tr>\n",
       "  </tbody>\n",
       "</table>\n",
       "</div>"
      ],
      "text/plain": [
       "                       trip_id arrival_time departure_time stop_id  \\\n",
       "0  A20171105SAT_036000_GS.N01R     06:00:00       06:00:00    901N   \n",
       "1  A20171105SAT_036000_GS.N01R     06:01:30       06:01:30    902N   \n",
       "2  A20171105SAT_036400_GS.S01R     06:04:00       06:04:00    902S   \n",
       "3  A20171105SAT_036400_GS.S01R     06:05:30       06:05:30    901S   \n",
       "4  A20171105SAT_037000_GS.N01R     06:10:00       06:10:00    901N   \n",
       "\n",
       "   stop_sequence  stop_headsign  pickup_type  drop_off_type  \\\n",
       "0              1            NaN            0              0   \n",
       "1              2            NaN            0              0   \n",
       "2              1            NaN            0              0   \n",
       "3              2            NaN            0              0   \n",
       "4              1            NaN            0              0   \n",
       "\n",
       "   shape_dist_traveled  \n",
       "0                  NaN  \n",
       "1                  NaN  \n",
       "2                  NaN  \n",
       "3                  NaN  \n",
       "4                  NaN  "
      ]
     },
     "execution_count": 46,
     "metadata": {},
     "output_type": "execute_result"
    }
   ],
   "source": [
    "stop_times.head()"
   ]
  },
  {
   "cell_type": "code",
   "execution_count": 47,
   "metadata": {},
   "outputs": [
    {
     "data": {
      "text/plain": [
       "(554831, 9)"
      ]
     },
     "execution_count": 47,
     "metadata": {},
     "output_type": "execute_result"
    }
   ],
   "source": [
    "stop_times.shape"
   ]
  },
  {
   "cell_type": "markdown",
   "metadata": {},
   "source": [
    "Interpreting trip_id:\n",
    "- A20171105SAT refers to service by Saturday schedule\n",
    "- 036000 refers to trip id\n",
    "- GS.N01R refers to line and North bound, and the set of stops it'll stop at"
   ]
  },
  {
   "cell_type": "code",
   "execution_count": 48,
   "metadata": {
    "collapsed": false
   },
   "outputs": [],
   "source": [
    "stop_times['service_id']=stop_times['trip_id'].apply(lambda x: x.split('_')[0])\n",
    "stop_times['sub_trip_id']=stop_times['trip_id'].apply(lambda x: x.split('_')[1])\n",
    "stop_times['train+direction']=stop_times['trip_id'].apply(lambda x: x.split('_')[2])\n",
    "stop_times['train'] = stop_times['train+direction'].apply(lambda x: x.split('.')[0])\n",
    "stop_times['direction'] = stop_times['train+direction'].apply(lambda x: x.split('.')[-1])\n",
    "stop_times['day'] = stop_times['service_id'].apply(lambda x: x[-3:])\n",
    "\n",
    "del stop_times['stop_headsign']\n",
    "del stop_times['pickup_type']\n",
    "del stop_times['drop_off_type']\n",
    "del stop_times['shape_dist_traveled']\n",
    "\n",
    "stop_times.head()"
   ]
  },
  {
   "cell_type": "code",
   "execution_count": 50,
   "metadata": {},
   "outputs": [
    {
     "data": {
      "text/plain": [
       "array(['GS.N01R', 'GS.S01R', 'GS.N03R', 'GS.S03R', '1..S03R', '1..N03R',\n",
       "       '1..S04R', '1..N12R', '1..S12R', '1..N13R', '2..S08R', '2..N08R',\n",
       "       '2..S01R', '2..N01R', '2..S05R', '2..S06R', '2..S07R', '2..N03R',\n",
       "       '2..N02R', '2..S03R', '2..S12R', '2..N12R', '3..S42R', '3..N42R',\n",
       "       '3..S01R', '3..N01R', '3..S03R', '3..S43R', '3..N43R', '4..S01R',\n",
       "       '4..N13R', '4..S13R', '4..N01R', '4..S34R', '4..N43R', '4..N02R',\n",
       "       '4..S06R', '4..N06R', '4..S28R', '4..N34R', '4..S39R', '4..S36R',\n",
       "       '4..S30R', '4..S05R', '4..N64R', '4..N03R', '4..S03R', '4..S10R',\n",
       "       '5..S32R', '5..N32R', '5..N01R', '5..S04R', '5..N26R', '5..N64R',\n",
       "       '5..S09R', '5..N71R', '5..S03R', '5..N66R', '5..N74R', '5..S08R',\n",
       "       '5..N73R', '5..S07R', '5..N68R', '5..S01R', '5..N76R', '5..S02R',\n",
       "       '5..N72R', '5..S21R', '5..S14R', '5..N69R', '5..S42R', '5..N60R',\n",
       "       '5..N14R', '5..S12R', '5..N67R', '5..S11R', '5..S15R', '5..N65R',\n",
       "       '5..S06R', '5..N70R', '5..S13R', '5..N15R', '5..N16R', '5..S16R',\n",
       "       '6..S01R', '6..N01R', '6..S02R', '6..N03R', '6..S03R', '6..N07R',\n",
       "       '6..S08R', '6..N02R', '6..S07R', '6..N06R', '6..S06R', '6..S13R',\n",
       "       '6..S09R', '7..S97R', '7..N97R', '7..S98R', '7..N96R', '7..S96R',\n",
       "       '7..N98R', '7..S99R', '7..N95R', 'GS.N04R', 'GS.S04R', 'N..S20R',\n",
       "       'N..N20R', 'N..N34R', 'N..S36R', 'N..S27R', 'N..N23R', 'Q..S19R',\n",
       "       'Q..N19R', 'Q..S16R', 'Q..N16R', 'R..S27R', 'R..N27R', 'R..N93R',\n",
       "       'R..S71R', 'R..S98R', 'R..S36R', 'R..N96R', 'R..N76R', 'A..N43R',\n",
       "       'A..S43R', 'A..N85R', 'A..N54R', 'A..N65R', 'A..S54X010',\n",
       "       'A..S69X002', 'A..S04X005', 'A..S16R', 'A..S55X009', 'A..N55R',\n",
       "       'A..S78R', 'A..N09R', 'A..S87R', 'A..N04R', 'A..S56R', 'A..S74R',\n",
       "       'A..N18R', 'A..S37R', 'A..N86R', 'A..N17R', 'A..N37R', 'A..S52R',\n",
       "       'A..N58R', 'B..S45R', 'B..N46R', 'B..N45R', 'B..S46R', 'B..N47R',\n",
       "       'B..N40R', 'C..N04R', 'C..S04R', 'D..S05R', 'D..N05R', 'D..S14R',\n",
       "       'D..N09R', 'D..N07R', 'D..S07R', 'D..N14R', 'D..S78R', 'E..S04R',\n",
       "       'E..N05R', 'E..S69R', 'E..N72R', 'E..S71R', 'E..N66R', 'E..N70R',\n",
       "       'E..N55R', 'E..S56R', 'F..S69R', 'F..N69R', 'F..S68R', 'F..N68R',\n",
       "       'F..N75R', 'F..S04X001', 'F..N04X001', 'FS.S01R', 'FS.N01R',\n",
       "       'G..N14R', 'G..S14R', 'G..N16R', 'G..S16R', 'G..N13R', 'H..N21R',\n",
       "       'H..S21R', 'J..S12R', 'J..N12R', 'J..S21R', 'J..N21R', 'J..S54R',\n",
       "       'J..N22R', 'J..N13R', 'J..N60R', 'J..S22R', 'J..N54R', 'L..N02R',\n",
       "       'L..S01R', 'L..N01R', 'L..S05R', 'L..N05R', 'M..S19R', 'M..N19R',\n",
       "       'M..N50R', 'M..S27R', 'M..N27R', 'M..S41R', 'M..S62R', 'M..N62R',\n",
       "       'M..N22R', 'M..N17R', 'M..S17R', 'N..N33R', 'N..S34R', 'N..N63R',\n",
       "       'N..S16R', 'N..N31R', 'N..S31R', 'N..S72R', 'N..N72R', 'N..S42R',\n",
       "       'N..N35R', 'N..S70R', 'N..S35R', 'N..N70R', 'N..N74R', 'N..N67R',\n",
       "       'SI.S03R', 'SI.N03R', 'SI.S02R', 'SI.N16R', 'SI.S07R', 'SI.N28R',\n",
       "       'SI.N02R'], dtype=object)"
      ]
     },
     "execution_count": 50,
     "metadata": {},
     "output_type": "execute_result"
    }
   ],
   "source": [
    "stop_times['train+direction'].unique()"
   ]
  },
  {
   "cell_type": "code",
   "execution_count": 18,
   "metadata": {},
   "outputs": [],
   "source": [
    "#drop all records with time > 24:00:00\n",
    "stop_times = stop_times.drop(stop_times[(stop_times.arrival_time > '23:59:59')].index)"
   ]
  },
  {
   "cell_type": "code",
   "execution_count": 20,
   "metadata": {},
   "outputs": [],
   "source": [
    "stop_times['arrival_time'] =  pd.to_datetime(stop_times['arrival_time'], format='%H:%M:%S').dt.time"
   ]
  },
  {
   "cell_type": "code",
   "execution_count": 21,
   "metadata": {},
   "outputs": [
    {
     "data": {
      "text/plain": [
       "trip_id            object\n",
       "arrival_time       object\n",
       "departure_time     object\n",
       "stop_id            object\n",
       "stop_sequence       int64\n",
       "service_id         object\n",
       "sub_trip_id        object\n",
       "train+direction    object\n",
       "train              object\n",
       "day                object\n",
       "dtype: object"
      ]
     },
     "execution_count": 21,
     "metadata": {},
     "output_type": "execute_result"
    }
   ],
   "source": [
    "stop_times.dtypes"
   ]
  },
  {
   "cell_type": "code",
   "execution_count": 22,
   "metadata": {},
   "outputs": [
    {
     "data": {
      "text/plain": [
       "(536886, 10)"
      ]
     },
     "execution_count": 22,
     "metadata": {},
     "output_type": "execute_result"
    }
   ],
   "source": [
    "stop_times.shape"
   ]
  },
  {
   "cell_type": "code",
   "execution_count": 23,
   "metadata": {},
   "outputs": [
    {
     "data": {
      "text/plain": [
       "20351"
      ]
     },
     "execution_count": 23,
     "metadata": {},
     "output_type": "execute_result"
    }
   ],
   "source": [
    "stop_times['trip_id'].nunique()"
   ]
  },
  {
   "cell_type": "code",
   "execution_count": 24,
   "metadata": {},
   "outputs": [
    {
     "data": {
      "text/plain": [
       "array(['GS', '1', '2', '3', '4', '5', '6', '7', 'N', 'Q', 'R', 'A', 'B',\n",
       "       'C', 'D', 'E', 'F', 'FS', 'G', 'H', 'J', 'L', 'M', 'SI'], dtype=object)"
      ]
     },
     "execution_count": 24,
     "metadata": {},
     "output_type": "execute_result"
    }
   ],
   "source": [
    "stop_times['train'].unique()"
   ]
  },
  {
   "cell_type": "code",
   "execution_count": 25,
   "metadata": {},
   "outputs": [
    {
     "data": {
      "text/plain": [
       "array(['SAT', 'SUN', 'WKD'], dtype=object)"
      ]
     },
     "execution_count": 25,
     "metadata": {},
     "output_type": "execute_result"
    }
   ],
   "source": [
    "stop_times['day'].unique()"
   ]
  },
  {
   "cell_type": "code",
   "execution_count": 26,
   "metadata": {
    "collapsed": false
   },
   "outputs": [],
   "source": [
    "stop_times.loc[stop_times[stop_times['train+direction'].isin(['N..N72R','N..S72R'])].index,['train']]='W'"
   ]
  },
  {
   "cell_type": "code",
   "execution_count": 28,
   "metadata": {
    "collapsed": false
   },
   "outputs": [],
   "source": [
    "stop_times.to_csv('stop_times_cleaned.csv', index=False)"
   ]
  },
  {
   "cell_type": "markdown",
   "metadata": {},
   "source": [
    "No Z train info in schedule data. Z is same as J.\n",
    "\n",
    "FS(Brooklyn), GS(Time sq- Grand Central), H(JFK) are all S train in map, "
   ]
  },
  {
   "cell_type": "code",
   "execution_count": 29,
   "metadata": {
    "collapsed": true
   },
   "outputs": [],
   "source": [
    "stops=pd.read_csv('GTFS_nyc_Subway/stops.txt')"
   ]
  },
  {
   "cell_type": "code",
   "execution_count": 30,
   "metadata": {
    "collapsed": false
   },
   "outputs": [],
   "source": [
    "stop_times = stop_times.merge(stops[['stop_id','stop_name','stop_lat','stop_lon']],on='stop_id',how='left')"
   ]
  },
  {
   "cell_type": "code",
   "execution_count": 31,
   "metadata": {
    "collapsed": false
   },
   "outputs": [
    {
     "data": {
      "text/html": [
       "<div>\n",
       "<style>\n",
       "    .dataframe thead tr:only-child th {\n",
       "        text-align: right;\n",
       "    }\n",
       "\n",
       "    .dataframe thead th {\n",
       "        text-align: left;\n",
       "    }\n",
       "\n",
       "    .dataframe tbody tr th {\n",
       "        vertical-align: top;\n",
       "    }\n",
       "</style>\n",
       "<table border=\"1\" class=\"dataframe\">\n",
       "  <thead>\n",
       "    <tr style=\"text-align: right;\">\n",
       "      <th></th>\n",
       "      <th>trip_id</th>\n",
       "      <th>arrival_time</th>\n",
       "      <th>departure_time</th>\n",
       "      <th>stop_id</th>\n",
       "      <th>stop_sequence</th>\n",
       "      <th>service_id</th>\n",
       "      <th>sub_trip_id</th>\n",
       "      <th>train+direction</th>\n",
       "      <th>train</th>\n",
       "      <th>day</th>\n",
       "      <th>stop_name</th>\n",
       "      <th>stop_lat</th>\n",
       "      <th>stop_lon</th>\n",
       "    </tr>\n",
       "  </thead>\n",
       "  <tbody>\n",
       "    <tr>\n",
       "      <th>0</th>\n",
       "      <td>A20171105SAT_036000_GS.N01R</td>\n",
       "      <td>06:00:00</td>\n",
       "      <td>06:00:00</td>\n",
       "      <td>901N</td>\n",
       "      <td>1</td>\n",
       "      <td>A20171105SAT</td>\n",
       "      <td>036000</td>\n",
       "      <td>GS.N01R</td>\n",
       "      <td>GS</td>\n",
       "      <td>SAT</td>\n",
       "      <td>Grand Central - 42 St</td>\n",
       "      <td>40.752769</td>\n",
       "      <td>-73.979189</td>\n",
       "    </tr>\n",
       "    <tr>\n",
       "      <th>1</th>\n",
       "      <td>A20171105SAT_036000_GS.N01R</td>\n",
       "      <td>06:01:30</td>\n",
       "      <td>06:01:30</td>\n",
       "      <td>902N</td>\n",
       "      <td>2</td>\n",
       "      <td>A20171105SAT</td>\n",
       "      <td>036000</td>\n",
       "      <td>GS.N01R</td>\n",
       "      <td>GS</td>\n",
       "      <td>SAT</td>\n",
       "      <td>Times Sq - 42 St</td>\n",
       "      <td>40.755983</td>\n",
       "      <td>-73.986229</td>\n",
       "    </tr>\n",
       "    <tr>\n",
       "      <th>2</th>\n",
       "      <td>A20171105SAT_036400_GS.S01R</td>\n",
       "      <td>06:04:00</td>\n",
       "      <td>06:04:00</td>\n",
       "      <td>902S</td>\n",
       "      <td>1</td>\n",
       "      <td>A20171105SAT</td>\n",
       "      <td>036400</td>\n",
       "      <td>GS.S01R</td>\n",
       "      <td>GS</td>\n",
       "      <td>SAT</td>\n",
       "      <td>Times Sq - 42 St</td>\n",
       "      <td>40.755983</td>\n",
       "      <td>-73.986229</td>\n",
       "    </tr>\n",
       "    <tr>\n",
       "      <th>3</th>\n",
       "      <td>A20171105SAT_036400_GS.S01R</td>\n",
       "      <td>06:05:30</td>\n",
       "      <td>06:05:30</td>\n",
       "      <td>901S</td>\n",
       "      <td>2</td>\n",
       "      <td>A20171105SAT</td>\n",
       "      <td>036400</td>\n",
       "      <td>GS.S01R</td>\n",
       "      <td>GS</td>\n",
       "      <td>SAT</td>\n",
       "      <td>Grand Central - 42 St</td>\n",
       "      <td>40.752769</td>\n",
       "      <td>-73.979189</td>\n",
       "    </tr>\n",
       "    <tr>\n",
       "      <th>4</th>\n",
       "      <td>A20171105SAT_037000_GS.N01R</td>\n",
       "      <td>06:10:00</td>\n",
       "      <td>06:10:00</td>\n",
       "      <td>901N</td>\n",
       "      <td>1</td>\n",
       "      <td>A20171105SAT</td>\n",
       "      <td>037000</td>\n",
       "      <td>GS.N01R</td>\n",
       "      <td>GS</td>\n",
       "      <td>SAT</td>\n",
       "      <td>Grand Central - 42 St</td>\n",
       "      <td>40.752769</td>\n",
       "      <td>-73.979189</td>\n",
       "    </tr>\n",
       "  </tbody>\n",
       "</table>\n",
       "</div>"
      ],
      "text/plain": [
       "                       trip_id arrival_time departure_time stop_id  \\\n",
       "0  A20171105SAT_036000_GS.N01R     06:00:00       06:00:00    901N   \n",
       "1  A20171105SAT_036000_GS.N01R     06:01:30       06:01:30    902N   \n",
       "2  A20171105SAT_036400_GS.S01R     06:04:00       06:04:00    902S   \n",
       "3  A20171105SAT_036400_GS.S01R     06:05:30       06:05:30    901S   \n",
       "4  A20171105SAT_037000_GS.N01R     06:10:00       06:10:00    901N   \n",
       "\n",
       "   stop_sequence    service_id sub_trip_id train+direction train  day  \\\n",
       "0              1  A20171105SAT      036000         GS.N01R    GS  SAT   \n",
       "1              2  A20171105SAT      036000         GS.N01R    GS  SAT   \n",
       "2              1  A20171105SAT      036400         GS.S01R    GS  SAT   \n",
       "3              2  A20171105SAT      036400         GS.S01R    GS  SAT   \n",
       "4              1  A20171105SAT      037000         GS.N01R    GS  SAT   \n",
       "\n",
       "               stop_name   stop_lat   stop_lon  \n",
       "0  Grand Central - 42 St  40.752769 -73.979189  \n",
       "1       Times Sq - 42 St  40.755983 -73.986229  \n",
       "2       Times Sq - 42 St  40.755983 -73.986229  \n",
       "3  Grand Central - 42 St  40.752769 -73.979189  \n",
       "4  Grand Central - 42 St  40.752769 -73.979189  "
      ]
     },
     "execution_count": 31,
     "metadata": {},
     "output_type": "execute_result"
    }
   ],
   "source": [
    "stop_times.head()"
   ]
  },
  {
   "cell_type": "code",
   "execution_count": 32,
   "metadata": {},
   "outputs": [
    {
     "data": {
      "text/plain": [
       "(536886, 13)"
      ]
     },
     "execution_count": 32,
     "metadata": {},
     "output_type": "execute_result"
    }
   ],
   "source": [
    "stop_times.shape"
   ]
  },
  {
   "cell_type": "code",
   "execution_count": 33,
   "metadata": {},
   "outputs": [],
   "source": [
    "stop_times['arrival_time'] = stop_times['arrival_time'].astype(datetime)"
   ]
  },
  {
   "cell_type": "code",
   "execution_count": 34,
   "metadata": {},
   "outputs": [
    {
     "data": {
      "text/plain": [
       "trip_id             object\n",
       "arrival_time        object\n",
       "departure_time      object\n",
       "stop_id             object\n",
       "stop_sequence        int64\n",
       "service_id          object\n",
       "sub_trip_id         object\n",
       "train+direction     object\n",
       "train               object\n",
       "day                 object\n",
       "stop_name           object\n",
       "stop_lat           float64\n",
       "stop_lon           float64\n",
       "dtype: object"
      ]
     },
     "execution_count": 34,
     "metadata": {},
     "output_type": "execute_result"
    }
   ],
   "source": [
    "stop_times.dtypes"
   ]
  },
  {
   "cell_type": "code",
   "execution_count": 42,
   "metadata": {},
   "outputs": [],
   "source": [
    "stop_times.to_csv('stops_and_times.csv', index=False)"
   ]
  },
  {
   "cell_type": "markdown",
   "metadata": {},
   "source": [
    "## Visualize by lines"
   ]
  },
  {
   "cell_type": "code",
   "execution_count": 35,
   "metadata": {},
   "outputs": [],
   "source": [
    "dict_of_regions = {k: v for k, v in stop_times.groupby('train')}"
   ]
  },
  {
   "cell_type": "code",
   "execution_count": 36,
   "metadata": {},
   "outputs": [
    {
     "data": {
      "text/html": [
       "<div>\n",
       "<style>\n",
       "    .dataframe thead tr:only-child th {\n",
       "        text-align: right;\n",
       "    }\n",
       "\n",
       "    .dataframe thead th {\n",
       "        text-align: left;\n",
       "    }\n",
       "\n",
       "    .dataframe tbody tr th {\n",
       "        vertical-align: top;\n",
       "    }\n",
       "</style>\n",
       "<table border=\"1\" class=\"dataframe\">\n",
       "  <thead>\n",
       "    <tr style=\"text-align: right;\">\n",
       "      <th></th>\n",
       "      <th>trip_id</th>\n",
       "      <th>arrival_time</th>\n",
       "      <th>departure_time</th>\n",
       "      <th>stop_id</th>\n",
       "      <th>stop_sequence</th>\n",
       "      <th>service_id</th>\n",
       "      <th>sub_trip_id</th>\n",
       "      <th>train+direction</th>\n",
       "      <th>train</th>\n",
       "      <th>day</th>\n",
       "      <th>stop_name</th>\n",
       "      <th>stop_lat</th>\n",
       "      <th>stop_lon</th>\n",
       "    </tr>\n",
       "  </thead>\n",
       "  <tbody>\n",
       "    <tr>\n",
       "      <th>1356</th>\n",
       "      <td>A20171105WKD_029750_1..S03R</td>\n",
       "      <td>04:57:30</td>\n",
       "      <td>04:57:30</td>\n",
       "      <td>101S</td>\n",
       "      <td>1</td>\n",
       "      <td>A20171105WKD</td>\n",
       "      <td>029750</td>\n",
       "      <td>1..S03R</td>\n",
       "      <td>1</td>\n",
       "      <td>WKD</td>\n",
       "      <td>Van Cortlandt Park - 242 St</td>\n",
       "      <td>40.889248</td>\n",
       "      <td>-73.898583</td>\n",
       "    </tr>\n",
       "    <tr>\n",
       "      <th>1357</th>\n",
       "      <td>A20171105WKD_029750_1..S03R</td>\n",
       "      <td>04:59:00</td>\n",
       "      <td>04:59:00</td>\n",
       "      <td>103S</td>\n",
       "      <td>2</td>\n",
       "      <td>A20171105WKD</td>\n",
       "      <td>029750</td>\n",
       "      <td>1..S03R</td>\n",
       "      <td>1</td>\n",
       "      <td>WKD</td>\n",
       "      <td>238 St</td>\n",
       "      <td>40.884667</td>\n",
       "      <td>-73.900870</td>\n",
       "    </tr>\n",
       "    <tr>\n",
       "      <th>1358</th>\n",
       "      <td>A20171105WKD_029750_1..S03R</td>\n",
       "      <td>05:00:30</td>\n",
       "      <td>05:00:30</td>\n",
       "      <td>104S</td>\n",
       "      <td>3</td>\n",
       "      <td>A20171105WKD</td>\n",
       "      <td>029750</td>\n",
       "      <td>1..S03R</td>\n",
       "      <td>1</td>\n",
       "      <td>WKD</td>\n",
       "      <td>231 St</td>\n",
       "      <td>40.878856</td>\n",
       "      <td>-73.904834</td>\n",
       "    </tr>\n",
       "    <tr>\n",
       "      <th>1359</th>\n",
       "      <td>A20171105WKD_029750_1..S03R</td>\n",
       "      <td>05:02:00</td>\n",
       "      <td>05:02:00</td>\n",
       "      <td>106S</td>\n",
       "      <td>4</td>\n",
       "      <td>A20171105WKD</td>\n",
       "      <td>029750</td>\n",
       "      <td>1..S03R</td>\n",
       "      <td>1</td>\n",
       "      <td>WKD</td>\n",
       "      <td>Marble Hill - 225 St</td>\n",
       "      <td>40.874561</td>\n",
       "      <td>-73.909831</td>\n",
       "    </tr>\n",
       "    <tr>\n",
       "      <th>1360</th>\n",
       "      <td>A20171105WKD_029750_1..S03R</td>\n",
       "      <td>05:03:30</td>\n",
       "      <td>05:03:30</td>\n",
       "      <td>107S</td>\n",
       "      <td>5</td>\n",
       "      <td>A20171105WKD</td>\n",
       "      <td>029750</td>\n",
       "      <td>1..S03R</td>\n",
       "      <td>1</td>\n",
       "      <td>WKD</td>\n",
       "      <td>215 St</td>\n",
       "      <td>40.869444</td>\n",
       "      <td>-73.915279</td>\n",
       "    </tr>\n",
       "  </tbody>\n",
       "</table>\n",
       "</div>"
      ],
      "text/plain": [
       "                          trip_id arrival_time departure_time stop_id  \\\n",
       "1356  A20171105WKD_029750_1..S03R     04:57:30       04:57:30    101S   \n",
       "1357  A20171105WKD_029750_1..S03R     04:59:00       04:59:00    103S   \n",
       "1358  A20171105WKD_029750_1..S03R     05:00:30       05:00:30    104S   \n",
       "1359  A20171105WKD_029750_1..S03R     05:02:00       05:02:00    106S   \n",
       "1360  A20171105WKD_029750_1..S03R     05:03:30       05:03:30    107S   \n",
       "\n",
       "      stop_sequence    service_id sub_trip_id train+direction train  day  \\\n",
       "1356              1  A20171105WKD      029750         1..S03R     1  WKD   \n",
       "1357              2  A20171105WKD      029750         1..S03R     1  WKD   \n",
       "1358              3  A20171105WKD      029750         1..S03R     1  WKD   \n",
       "1359              4  A20171105WKD      029750         1..S03R     1  WKD   \n",
       "1360              5  A20171105WKD      029750         1..S03R     1  WKD   \n",
       "\n",
       "                        stop_name   stop_lat   stop_lon  \n",
       "1356  Van Cortlandt Park - 242 St  40.889248 -73.898583  \n",
       "1357                       238 St  40.884667 -73.900870  \n",
       "1358                       231 St  40.878856 -73.904834  \n",
       "1359         Marble Hill - 225 St  40.874561 -73.909831  \n",
       "1360                       215 St  40.869444 -73.915279  "
      ]
     },
     "execution_count": 36,
     "metadata": {},
     "output_type": "execute_result"
    }
   ],
   "source": [
    "#for line 1\n",
    "dict_of_regions['1'].head()"
   ]
  },
  {
   "cell_type": "code",
   "execution_count": 37,
   "metadata": {},
   "outputs": [
    {
     "data": {
      "text/plain": [
       "array([datetime.time(4, 57, 30), datetime.time(4, 59),\n",
       "       datetime.time(5, 0, 30), ..., datetime.time(4, 33),\n",
       "       datetime.time(5, 13), datetime.time(5, 19, 30)], dtype=object)"
      ]
     },
     "execution_count": 37,
     "metadata": {},
     "output_type": "execute_result"
    }
   ],
   "source": [
    "dict_of_regions['1']['arrival_time'].unique()"
   ]
  },
  {
   "cell_type": "code",
   "execution_count": 38,
   "metadata": {},
   "outputs": [
    {
     "data": {
      "text/plain": [
       "array(['1..S03R', '1..N03R', '1..S04R', '1..N12R', '1..S12R', '1..N13R'], dtype=object)"
      ]
     },
     "execution_count": 38,
     "metadata": {},
     "output_type": "execute_result"
    }
   ],
   "source": [
    "dict_of_regions['1']['train+direction'].unique()"
   ]
  },
  {
   "cell_type": "code",
   "execution_count": 39,
   "metadata": {},
   "outputs": [
    {
     "data": {
      "text/plain": [
       "873"
      ]
     },
     "execution_count": 39,
     "metadata": {},
     "output_type": "execute_result"
    }
   ],
   "source": [
    "dict_of_regions['1']['sub_trip_id'].nunique()"
   ]
  },
  {
   "cell_type": "code",
   "execution_count": 40,
   "metadata": {},
   "outputs": [],
   "source": [
    "#filter only northbound\n",
    "north = ['1..N03R', '1..N12R', '1..N13R']\n",
    "df1N = dict_of_regions['1'].loc[dict_of_regions['1']['train+direction'].isin(north)]\n"
   ]
  },
  {
   "cell_type": "code",
   "execution_count": 41,
   "metadata": {},
   "outputs": [
    {
     "data": {
      "text/html": [
       "<div>\n",
       "<style>\n",
       "    .dataframe thead tr:only-child th {\n",
       "        text-align: right;\n",
       "    }\n",
       "\n",
       "    .dataframe thead th {\n",
       "        text-align: left;\n",
       "    }\n",
       "\n",
       "    .dataframe tbody tr th {\n",
       "        vertical-align: top;\n",
       "    }\n",
       "</style>\n",
       "<table border=\"1\" class=\"dataframe\">\n",
       "  <thead>\n",
       "    <tr style=\"text-align: right;\">\n",
       "      <th></th>\n",
       "      <th>trip_id</th>\n",
       "      <th>arrival_time</th>\n",
       "      <th>departure_time</th>\n",
       "      <th>stop_id</th>\n",
       "      <th>stop_sequence</th>\n",
       "      <th>service_id</th>\n",
       "      <th>sub_trip_id</th>\n",
       "      <th>train+direction</th>\n",
       "      <th>train</th>\n",
       "      <th>day</th>\n",
       "      <th>stop_name</th>\n",
       "      <th>stop_lat</th>\n",
       "      <th>stop_lon</th>\n",
       "    </tr>\n",
       "  </thead>\n",
       "  <tbody>\n",
       "    <tr>\n",
       "      <th>1394</th>\n",
       "      <td>A20171105WKD_036150_1..N03R</td>\n",
       "      <td>06:01:30</td>\n",
       "      <td>06:01:30</td>\n",
       "      <td>142N</td>\n",
       "      <td>1</td>\n",
       "      <td>A20171105WKD</td>\n",
       "      <td>036150</td>\n",
       "      <td>1..N03R</td>\n",
       "      <td>1</td>\n",
       "      <td>WKD</td>\n",
       "      <td>South Ferry</td>\n",
       "      <td>40.702068</td>\n",
       "      <td>-74.013664</td>\n",
       "    </tr>\n",
       "    <tr>\n",
       "      <th>1395</th>\n",
       "      <td>A20171105WKD_036150_1..N03R</td>\n",
       "      <td>06:04:00</td>\n",
       "      <td>06:04:00</td>\n",
       "      <td>139N</td>\n",
       "      <td>2</td>\n",
       "      <td>A20171105WKD</td>\n",
       "      <td>036150</td>\n",
       "      <td>1..N03R</td>\n",
       "      <td>1</td>\n",
       "      <td>WKD</td>\n",
       "      <td>Rector St</td>\n",
       "      <td>40.707513</td>\n",
       "      <td>-74.013783</td>\n",
       "    </tr>\n",
       "    <tr>\n",
       "      <th>1396</th>\n",
       "      <td>A20171105WKD_036150_1..N03R</td>\n",
       "      <td>06:05:00</td>\n",
       "      <td>06:05:00</td>\n",
       "      <td>138N</td>\n",
       "      <td>3</td>\n",
       "      <td>A20171105WKD</td>\n",
       "      <td>036150</td>\n",
       "      <td>1..N03R</td>\n",
       "      <td>1</td>\n",
       "      <td>WKD</td>\n",
       "      <td>Cortlandt St</td>\n",
       "      <td>40.711835</td>\n",
       "      <td>-74.012188</td>\n",
       "    </tr>\n",
       "    <tr>\n",
       "      <th>1397</th>\n",
       "      <td>A20171105WKD_036150_1..N03R</td>\n",
       "      <td>06:06:00</td>\n",
       "      <td>06:06:00</td>\n",
       "      <td>137N</td>\n",
       "      <td>4</td>\n",
       "      <td>A20171105WKD</td>\n",
       "      <td>036150</td>\n",
       "      <td>1..N03R</td>\n",
       "      <td>1</td>\n",
       "      <td>WKD</td>\n",
       "      <td>Chambers St</td>\n",
       "      <td>40.715478</td>\n",
       "      <td>-74.009266</td>\n",
       "    </tr>\n",
       "    <tr>\n",
       "      <th>1398</th>\n",
       "      <td>A20171105WKD_036150_1..N03R</td>\n",
       "      <td>06:07:30</td>\n",
       "      <td>06:07:30</td>\n",
       "      <td>136N</td>\n",
       "      <td>5</td>\n",
       "      <td>A20171105WKD</td>\n",
       "      <td>036150</td>\n",
       "      <td>1..N03R</td>\n",
       "      <td>1</td>\n",
       "      <td>WKD</td>\n",
       "      <td>Franklin St</td>\n",
       "      <td>40.719318</td>\n",
       "      <td>-74.006886</td>\n",
       "    </tr>\n",
       "  </tbody>\n",
       "</table>\n",
       "</div>"
      ],
      "text/plain": [
       "                          trip_id arrival_time departure_time stop_id  \\\n",
       "1394  A20171105WKD_036150_1..N03R     06:01:30       06:01:30    142N   \n",
       "1395  A20171105WKD_036150_1..N03R     06:04:00       06:04:00    139N   \n",
       "1396  A20171105WKD_036150_1..N03R     06:05:00       06:05:00    138N   \n",
       "1397  A20171105WKD_036150_1..N03R     06:06:00       06:06:00    137N   \n",
       "1398  A20171105WKD_036150_1..N03R     06:07:30       06:07:30    136N   \n",
       "\n",
       "      stop_sequence    service_id sub_trip_id train+direction train  day  \\\n",
       "1394              1  A20171105WKD      036150         1..N03R     1  WKD   \n",
       "1395              2  A20171105WKD      036150         1..N03R     1  WKD   \n",
       "1396              3  A20171105WKD      036150         1..N03R     1  WKD   \n",
       "1397              4  A20171105WKD      036150         1..N03R     1  WKD   \n",
       "1398              5  A20171105WKD      036150         1..N03R     1  WKD   \n",
       "\n",
       "         stop_name   stop_lat   stop_lon  \n",
       "1394   South Ferry  40.702068 -74.013664  \n",
       "1395     Rector St  40.707513 -74.013783  \n",
       "1396  Cortlandt St  40.711835 -74.012188  \n",
       "1397   Chambers St  40.715478 -74.009266  \n",
       "1398   Franklin St  40.719318 -74.006886  "
      ]
     },
     "execution_count": 41,
     "metadata": {},
     "output_type": "execute_result"
    }
   ],
   "source": [
    "df1N.head()"
   ]
  },
  {
   "cell_type": "code",
   "execution_count": null,
   "metadata": {},
   "outputs": [],
   "source": []
  }
 ],
 "metadata": {
  "anaconda-cloud": {},
  "kernelspec": {
   "display_name": "Python 2",
   "language": "python",
   "name": "python2"
  },
  "language_info": {
   "codemirror_mode": {
    "name": "ipython",
    "version": 2
   },
   "file_extension": ".py",
   "mimetype": "text/x-python",
   "name": "python",
   "nbconvert_exporter": "python",
   "pygments_lexer": "ipython2",
   "version": "2.7.13"
  }
 },
 "nbformat": 4,
 "nbformat_minor": 2
}
